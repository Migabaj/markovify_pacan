{
 "cells": [
  {
   "cell_type": "markdown",
   "metadata": {},
   "source": [
    "# Ah shit\n",
    "## Here we go again"
   ]
  },
  {
   "cell_type": "code",
   "execution_count": 1,
   "metadata": {},
   "outputs": [],
   "source": [
    "import markovify"
   ]
  },
  {
   "cell_type": "markdown",
   "metadata": {},
   "source": [
    "Создал приложение в вк и достал из паблика \"пацанские цитаты и союзмультфильм\" 2000 постов. С тем, что цитаты иногда повторяются, я ничего не сделал. Как и с тем, что есть посты-нецитаты.\n",
    "\n",
    "Есть еще один прикол: корпус маленький очень. Как его пополнять -- хз. Нет нормальной датабазы пацанских цитат."
   ]
  },
  {
   "cell_type": "code",
   "execution_count": 47,
   "metadata": {},
   "outputs": [],
   "source": [
    "import requests"
   ]
  },
  {
   "cell_type": "code",
   "execution_count": 58,
   "metadata": {},
   "outputs": [],
   "source": [
    "# это будущие тексты цитат\n",
    "pacan_quotes = []\n",
    "\n",
    "for i in range(20):\n",
    "    data = requests.get(\n",
    "        'https://api.vk.com/method/wall.get', \n",
    "        params={\n",
    "            \"owner_id\": -157341954,\n",
    "            \"offset\": 100*i,\n",
    "            \"count\": 100,\n",
    "            \"v\":\"5.92\",\n",
    "            \"access_token\": TOKEN # хрен покажу\n",
    "        }\n",
    "    ).json()\n",
    "    # это я пополняю список текстами постов\n",
    "    pacan_quotes.extend(item['text'] for item in data['response']['items'])"
   ]
  },
  {
   "cell_type": "markdown",
   "metadata": {},
   "source": [
    "В итоге, без пустых постов, всего их 1953."
   ]
  },
  {
   "cell_type": "code",
   "execution_count": 61,
   "metadata": {},
   "outputs": [
    {
     "data": {
      "text/plain": [
       "1953"
      ]
     },
     "execution_count": 61,
     "metadata": {},
     "output_type": "execute_result"
    }
   ],
   "source": [
    "len([text for text in pacan_quotes if text])"
   ]
  },
  {
   "cell_type": "markdown",
   "metadata": {},
   "source": [
    "Markovify учится на тексте, так что соединяем цитаты в один текст и строим модель.\n",
    "\n",
    "Проблема, связанная с этим: модель будет думать, что следующие друг за другом цитаты -- это норма языка."
   ]
  },
  {
   "cell_type": "code",
   "execution_count": 755,
   "metadata": {},
   "outputs": [],
   "source": [
    "corpus = \".\\n\".join([quote.lower() for quote in pacan_quotes if quote]).replace(' \\n', '.\\n')"
   ]
  },
  {
   "cell_type": "code",
   "execution_count": 756,
   "metadata": {},
   "outputs": [],
   "source": [
    "text_model = markovify.Text(corpus, state_size=3)\n",
    "model_json = text_model.to_json()\n",
    "model = markovify.Text.from_json(model_json)"
   ]
  },
  {
   "cell_type": "markdown",
   "metadata": {},
   "source": [
    "Получается что-нибудь такое, но не всегда. Иногда тупо две цитаты, склееные вместе. Потому что корпус маленький. Нет на свете стольких пацанских цитат, к сожалению("
   ]
  },
  {
   "cell_type": "code",
   "execution_count": 757,
   "metadata": {
    "scrolled": false
   },
   "outputs": [
    {
     "data": {
      "text/plain": [
       "'когдa-нибудь я напишу в статусе..cчастлив...закину парy фоток с сыном и больше никогда не буду колоться не люблю парфюм от lacoste.'"
      ]
     },
     "execution_count": 757,
     "metadata": {},
     "output_type": "execute_result"
    }
   ],
   "source": [
    "model.make_short_sentence(1000)"
   ]
  },
  {
   "cell_type": "markdown",
   "metadata": {},
   "source": [
    "Мигабай, что ты делаешь, ахахах, зачем тебе диалоги из двух томов Войны и Мира?\n",
    "\n",
    "Если совсем честно, они у меня с прошлого проекта валялись, а весь ВиМ закачивать было влом, так что вот.\n",
    "\n",
    "Я сделал модель по диалогам из ВиМ."
   ]
  },
  {
   "cell_type": "code",
   "execution_count": 600,
   "metadata": {},
   "outputs": [],
   "source": [
    "corpus_tolstoy = open(\"vim-dialogue.txt\").read().lower()"
   ]
  },
  {
   "cell_type": "code",
   "execution_count": 601,
   "metadata": {},
   "outputs": [],
   "source": [
    "text_model_tolstoy = markovify.Text(corpus_tolstoy, state_size=3)\n",
    "model_tolstoy_json = text_model_tolstoy.to_json()\n",
    "model_tolstoy = markovify.Text.from_json(model_tolstoy_json)"
   ]
  },
  {
   "cell_type": "markdown",
   "metadata": {},
   "source": [
    "Скомбайнил две модели (так, чтобы пацанские цитаты имели больший вес (10/1))."
   ]
  },
  {
   "cell_type": "code",
   "execution_count": 602,
   "metadata": {},
   "outputs": [],
   "source": [
    "model_with_tolstoy = markovify.combine([model, model_tolstoy], [10, 1])"
   ]
  },
  {
   "cell_type": "markdown",
   "metadata": {},
   "source": [
    "ОЧЕНЬ редко получается комбинация двух жанров. Обычно либо ВиМ, либо цитаты. Иногда просто выпадает None."
   ]
  },
  {
   "cell_type": "code",
   "execution_count": 805,
   "metadata": {
    "scrolled": true
   },
   "outputs": [
    {
     "data": {
      "text/plain": [
       "'казаки видели, как быстро задергались его руки и ноги, несмотря на то, что это так быстро совершилось, доказывало то, что это означало, его смерть…до слез....'"
      ]
     },
     "execution_count": 805,
     "metadata": {},
     "output_type": "execute_result"
    }
   ],
   "source": [
    "model_with_tolstoy.make_short_sentence(1000)"
   ]
  },
  {
   "cell_type": "markdown",
   "metadata": {},
   "source": [
    "*Миша Сонькин*"
   ]
  }
 ],
 "metadata": {
  "kernelspec": {
   "display_name": "Python 3",
   "language": "python",
   "name": "python3"
  },
  "language_info": {
   "codemirror_mode": {
    "name": "ipython",
    "version": 3
   },
   "file_extension": ".py",
   "mimetype": "text/x-python",
   "name": "python",
   "nbconvert_exporter": "python",
   "pygments_lexer": "ipython3",
   "version": "3.7.4"
  }
 },
 "nbformat": 4,
 "nbformat_minor": 2
}
